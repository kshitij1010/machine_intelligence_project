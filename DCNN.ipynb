{
  "nbformat": 4,
  "nbformat_minor": 0,
  "metadata": {
    "colab": {
      "provenance": [],
      "machine_shape": "hm",
      "gpuType": "A100"
    },
    "kernelspec": {
      "name": "python3",
      "display_name": "Python 3"
    },
    "language_info": {
      "name": "python"
    },
    "accelerator": "GPU",
    "widgets": {
      "application/vnd.jupyter.widget-state+json": {
        "1a64d7d1f827470291196d1730a482d8": {
          "model_module": "@jupyter-widgets/controls",
          "model_name": "VBoxModel",
          "model_module_version": "1.5.0",
          "state": {
            "_dom_classes": [],
            "_model_module": "@jupyter-widgets/controls",
            "_model_module_version": "1.5.0",
            "_model_name": "VBoxModel",
            "_view_count": null,
            "_view_module": "@jupyter-widgets/controls",
            "_view_module_version": "1.5.0",
            "_view_name": "VBoxView",
            "box_style": "",
            "children": [
              "IPY_MODEL_46800fbb0a9448c486b0b62dabd111dd",
              "IPY_MODEL_3a04eae635fb4800bf8fece733c03a32"
            ],
            "layout": "IPY_MODEL_814922ef851b4c0da3b4aa0260f3b56f"
          }
        },
        "46800fbb0a9448c486b0b62dabd111dd": {
          "model_module": "@jupyter-widgets/controls",
          "model_name": "LabelModel",
          "model_module_version": "1.5.0",
          "state": {
            "_dom_classes": [],
            "_model_module": "@jupyter-widgets/controls",
            "_model_module_version": "1.5.0",
            "_model_name": "LabelModel",
            "_view_count": null,
            "_view_module": "@jupyter-widgets/controls",
            "_view_module_version": "1.5.0",
            "_view_name": "LabelView",
            "description": "",
            "description_tooltip": null,
            "layout": "IPY_MODEL_f1cad53a45bb451fba1a20bc13d8faca",
            "placeholder": "​",
            "style": "IPY_MODEL_bbd79abfaf044176896cc89c8f2ad209",
            "value": "0.021 MB of 0.021 MB uploaded\r"
          }
        },
        "3a04eae635fb4800bf8fece733c03a32": {
          "model_module": "@jupyter-widgets/controls",
          "model_name": "FloatProgressModel",
          "model_module_version": "1.5.0",
          "state": {
            "_dom_classes": [],
            "_model_module": "@jupyter-widgets/controls",
            "_model_module_version": "1.5.0",
            "_model_name": "FloatProgressModel",
            "_view_count": null,
            "_view_module": "@jupyter-widgets/controls",
            "_view_module_version": "1.5.0",
            "_view_name": "ProgressView",
            "bar_style": "",
            "description": "",
            "description_tooltip": null,
            "layout": "IPY_MODEL_e90f7d19d7e14d2a966e0b02b8b6da93",
            "max": 1,
            "min": 0,
            "orientation": "horizontal",
            "style": "IPY_MODEL_e83cab5977594a319513f4c49fe081af",
            "value": 1
          }
        },
        "814922ef851b4c0da3b4aa0260f3b56f": {
          "model_module": "@jupyter-widgets/base",
          "model_name": "LayoutModel",
          "model_module_version": "1.2.0",
          "state": {
            "_model_module": "@jupyter-widgets/base",
            "_model_module_version": "1.2.0",
            "_model_name": "LayoutModel",
            "_view_count": null,
            "_view_module": "@jupyter-widgets/base",
            "_view_module_version": "1.2.0",
            "_view_name": "LayoutView",
            "align_content": null,
            "align_items": null,
            "align_self": null,
            "border": null,
            "bottom": null,
            "display": null,
            "flex": null,
            "flex_flow": null,
            "grid_area": null,
            "grid_auto_columns": null,
            "grid_auto_flow": null,
            "grid_auto_rows": null,
            "grid_column": null,
            "grid_gap": null,
            "grid_row": null,
            "grid_template_areas": null,
            "grid_template_columns": null,
            "grid_template_rows": null,
            "height": null,
            "justify_content": null,
            "justify_items": null,
            "left": null,
            "margin": null,
            "max_height": null,
            "max_width": null,
            "min_height": null,
            "min_width": null,
            "object_fit": null,
            "object_position": null,
            "order": null,
            "overflow": null,
            "overflow_x": null,
            "overflow_y": null,
            "padding": null,
            "right": null,
            "top": null,
            "visibility": null,
            "width": null
          }
        },
        "f1cad53a45bb451fba1a20bc13d8faca": {
          "model_module": "@jupyter-widgets/base",
          "model_name": "LayoutModel",
          "model_module_version": "1.2.0",
          "state": {
            "_model_module": "@jupyter-widgets/base",
            "_model_module_version": "1.2.0",
            "_model_name": "LayoutModel",
            "_view_count": null,
            "_view_module": "@jupyter-widgets/base",
            "_view_module_version": "1.2.0",
            "_view_name": "LayoutView",
            "align_content": null,
            "align_items": null,
            "align_self": null,
            "border": null,
            "bottom": null,
            "display": null,
            "flex": null,
            "flex_flow": null,
            "grid_area": null,
            "grid_auto_columns": null,
            "grid_auto_flow": null,
            "grid_auto_rows": null,
            "grid_column": null,
            "grid_gap": null,
            "grid_row": null,
            "grid_template_areas": null,
            "grid_template_columns": null,
            "grid_template_rows": null,
            "height": null,
            "justify_content": null,
            "justify_items": null,
            "left": null,
            "margin": null,
            "max_height": null,
            "max_width": null,
            "min_height": null,
            "min_width": null,
            "object_fit": null,
            "object_position": null,
            "order": null,
            "overflow": null,
            "overflow_x": null,
            "overflow_y": null,
            "padding": null,
            "right": null,
            "top": null,
            "visibility": null,
            "width": null
          }
        },
        "bbd79abfaf044176896cc89c8f2ad209": {
          "model_module": "@jupyter-widgets/controls",
          "model_name": "DescriptionStyleModel",
          "model_module_version": "1.5.0",
          "state": {
            "_model_module": "@jupyter-widgets/controls",
            "_model_module_version": "1.5.0",
            "_model_name": "DescriptionStyleModel",
            "_view_count": null,
            "_view_module": "@jupyter-widgets/base",
            "_view_module_version": "1.2.0",
            "_view_name": "StyleView",
            "description_width": ""
          }
        },
        "e90f7d19d7e14d2a966e0b02b8b6da93": {
          "model_module": "@jupyter-widgets/base",
          "model_name": "LayoutModel",
          "model_module_version": "1.2.0",
          "state": {
            "_model_module": "@jupyter-widgets/base",
            "_model_module_version": "1.2.0",
            "_model_name": "LayoutModel",
            "_view_count": null,
            "_view_module": "@jupyter-widgets/base",
            "_view_module_version": "1.2.0",
            "_view_name": "LayoutView",
            "align_content": null,
            "align_items": null,
            "align_self": null,
            "border": null,
            "bottom": null,
            "display": null,
            "flex": null,
            "flex_flow": null,
            "grid_area": null,
            "grid_auto_columns": null,
            "grid_auto_flow": null,
            "grid_auto_rows": null,
            "grid_column": null,
            "grid_gap": null,
            "grid_row": null,
            "grid_template_areas": null,
            "grid_template_columns": null,
            "grid_template_rows": null,
            "height": null,
            "justify_content": null,
            "justify_items": null,
            "left": null,
            "margin": null,
            "max_height": null,
            "max_width": null,
            "min_height": null,
            "min_width": null,
            "object_fit": null,
            "object_position": null,
            "order": null,
            "overflow": null,
            "overflow_x": null,
            "overflow_y": null,
            "padding": null,
            "right": null,
            "top": null,
            "visibility": null,
            "width": null
          }
        },
        "e83cab5977594a319513f4c49fe081af": {
          "model_module": "@jupyter-widgets/controls",
          "model_name": "ProgressStyleModel",
          "model_module_version": "1.5.0",
          "state": {
            "_model_module": "@jupyter-widgets/controls",
            "_model_module_version": "1.5.0",
            "_model_name": "ProgressStyleModel",
            "_view_count": null,
            "_view_module": "@jupyter-widgets/base",
            "_view_module_version": "1.2.0",
            "_view_name": "StyleView",
            "bar_color": null,
            "description_width": ""
          }
        }
      }
    }
  },
  "cells": [
    {
      "cell_type": "code",
      "source": [
        "!pip install wandb"
      ],
      "metadata": {
        "colab": {
          "base_uri": "https://localhost:8080/"
        },
        "id": "q2ujSZikgVM-",
        "outputId": "566748fa-c786-4504-ae6b-880cc9aa0338"
      },
      "execution_count": null,
      "outputs": [
        {
          "output_type": "stream",
          "name": "stdout",
          "text": [
            "Collecting wandb\n",
            "  Downloading wandb-0.17.0-py3-none-manylinux_2_5_x86_64.manylinux1_x86_64.manylinux_2_17_x86_64.manylinux2014_x86_64.whl (6.7 MB)\n",
            "\u001b[2K     \u001b[90m━━━━━━━━━━━━━━━━━━━━━━━━━━━━━━━━━━━━━━━━\u001b[0m \u001b[32m6.7/6.7 MB\u001b[0m \u001b[31m42.4 MB/s\u001b[0m eta \u001b[36m0:00:00\u001b[0m\n",
            "\u001b[?25hRequirement already satisfied: click!=8.0.0,>=7.1 in /usr/local/lib/python3.10/dist-packages (from wandb) (8.1.7)\n",
            "Collecting docker-pycreds>=0.4.0 (from wandb)\n",
            "  Downloading docker_pycreds-0.4.0-py2.py3-none-any.whl (9.0 kB)\n",
            "Collecting gitpython!=3.1.29,>=1.0.0 (from wandb)\n",
            "  Downloading GitPython-3.1.43-py3-none-any.whl (207 kB)\n",
            "\u001b[2K     \u001b[90m━━━━━━━━━━━━━━━━━━━━━━━━━━━━━━━━━━━━━━━━\u001b[0m \u001b[32m207.3/207.3 kB\u001b[0m \u001b[31m27.1 MB/s\u001b[0m eta \u001b[36m0:00:00\u001b[0m\n",
            "\u001b[?25hRequirement already satisfied: platformdirs in /usr/local/lib/python3.10/dist-packages (from wandb) (4.2.1)\n",
            "Requirement already satisfied: protobuf!=4.21.0,<5,>=3.19.0 in /usr/local/lib/python3.10/dist-packages (from wandb) (3.20.3)\n",
            "Requirement already satisfied: psutil>=5.0.0 in /usr/local/lib/python3.10/dist-packages (from wandb) (5.9.5)\n",
            "Requirement already satisfied: pyyaml in /usr/local/lib/python3.10/dist-packages (from wandb) (6.0.1)\n",
            "Requirement already satisfied: requests<3,>=2.0.0 in /usr/local/lib/python3.10/dist-packages (from wandb) (2.31.0)\n",
            "Collecting sentry-sdk>=1.0.0 (from wandb)\n",
            "  Downloading sentry_sdk-2.1.1-py2.py3-none-any.whl (277 kB)\n",
            "\u001b[2K     \u001b[90m━━━━━━━━━━━━━━━━━━━━━━━━━━━━━━━━━━━━━━━━\u001b[0m \u001b[32m277.3/277.3 kB\u001b[0m \u001b[31m35.9 MB/s\u001b[0m eta \u001b[36m0:00:00\u001b[0m\n",
            "\u001b[?25hCollecting setproctitle (from wandb)\n",
            "  Downloading setproctitle-1.3.3-cp310-cp310-manylinux_2_5_x86_64.manylinux1_x86_64.manylinux_2_17_x86_64.manylinux2014_x86_64.whl (30 kB)\n",
            "Requirement already satisfied: setuptools in /usr/local/lib/python3.10/dist-packages (from wandb) (67.7.2)\n",
            "Requirement already satisfied: six>=1.4.0 in /usr/local/lib/python3.10/dist-packages (from docker-pycreds>=0.4.0->wandb) (1.16.0)\n",
            "Collecting gitdb<5,>=4.0.1 (from gitpython!=3.1.29,>=1.0.0->wandb)\n",
            "  Downloading gitdb-4.0.11-py3-none-any.whl (62 kB)\n",
            "\u001b[2K     \u001b[90m━━━━━━━━━━━━━━━━━━━━━━━━━━━━━━━━━━━━━━━━\u001b[0m \u001b[32m62.7/62.7 kB\u001b[0m \u001b[31m10.1 MB/s\u001b[0m eta \u001b[36m0:00:00\u001b[0m\n",
            "\u001b[?25hRequirement already satisfied: charset-normalizer<4,>=2 in /usr/local/lib/python3.10/dist-packages (from requests<3,>=2.0.0->wandb) (3.3.2)\n",
            "Requirement already satisfied: idna<4,>=2.5 in /usr/local/lib/python3.10/dist-packages (from requests<3,>=2.0.0->wandb) (3.7)\n",
            "Requirement already satisfied: urllib3<3,>=1.21.1 in /usr/local/lib/python3.10/dist-packages (from requests<3,>=2.0.0->wandb) (2.0.7)\n",
            "Requirement already satisfied: certifi>=2017.4.17 in /usr/local/lib/python3.10/dist-packages (from requests<3,>=2.0.0->wandb) (2024.2.2)\n",
            "Collecting smmap<6,>=3.0.1 (from gitdb<5,>=4.0.1->gitpython!=3.1.29,>=1.0.0->wandb)\n",
            "  Downloading smmap-5.0.1-py3-none-any.whl (24 kB)\n",
            "Installing collected packages: smmap, setproctitle, sentry-sdk, docker-pycreds, gitdb, gitpython, wandb\n",
            "Successfully installed docker-pycreds-0.4.0 gitdb-4.0.11 gitpython-3.1.43 sentry-sdk-2.1.1 setproctitle-1.3.3 smmap-5.0.1 wandb-0.17.0\n"
          ]
        }
      ]
    },
    {
      "cell_type": "code",
      "source": [
        "torch.cuda.empty_cache()"
      ],
      "metadata": {
        "id": "rk54yp3pguFs"
      },
      "execution_count": null,
      "outputs": []
    },
    {
      "cell_type": "code",
      "source": [
        "import torch\n",
        "import torch.nn as nn\n",
        "import torch.nn.functional as F\n",
        "import torch.optim as optim\n",
        "from torch.utils.data import DataLoader\n",
        "import torchvision\n",
        "import torchvision.transforms as transforms"
      ],
      "metadata": {
        "id": "1WeCh9EQd8Wp"
      },
      "execution_count": null,
      "outputs": []
    },
    {
      "cell_type": "code",
      "source": [
        "import wandb\n",
        "wandb.init(project=\"wide-resnet-cifar10\", name=\"wide-resnet\")\n"
      ],
      "metadata": {
        "colab": {
          "base_uri": "https://localhost:8080/",
          "height": 212
        },
        "id": "TX0V0nVrgUFY",
        "outputId": "10d82ce1-2d62-4498-e153-d54e1ef2a46c"
      },
      "execution_count": null,
      "outputs": [
        {
          "output_type": "display_data",
          "data": {
            "text/plain": [
              "<IPython.core.display.Javascript object>"
            ],
            "application/javascript": [
              "\n",
              "        window._wandbApiKey = new Promise((resolve, reject) => {\n",
              "            function loadScript(url) {\n",
              "            return new Promise(function(resolve, reject) {\n",
              "                let newScript = document.createElement(\"script\");\n",
              "                newScript.onerror = reject;\n",
              "                newScript.onload = resolve;\n",
              "                document.body.appendChild(newScript);\n",
              "                newScript.src = url;\n",
              "            });\n",
              "            }\n",
              "            loadScript(\"https://cdn.jsdelivr.net/npm/postmate/build/postmate.min.js\").then(() => {\n",
              "            const iframe = document.createElement('iframe')\n",
              "            iframe.style.cssText = \"width:0;height:0;border:none\"\n",
              "            document.body.appendChild(iframe)\n",
              "            const handshake = new Postmate({\n",
              "                container: iframe,\n",
              "                url: 'https://wandb.ai/authorize'\n",
              "            });\n",
              "            const timeout = setTimeout(() => reject(\"Couldn't auto authenticate\"), 5000)\n",
              "            handshake.then(function(child) {\n",
              "                child.on('authorize', data => {\n",
              "                    clearTimeout(timeout)\n",
              "                    resolve(data)\n",
              "                });\n",
              "            });\n",
              "            })\n",
              "        });\n",
              "    "
            ]
          },
          "metadata": {}
        },
        {
          "output_type": "stream",
          "name": "stderr",
          "text": [
            "\u001b[34m\u001b[1mwandb\u001b[0m: Logging into wandb.ai. (Learn how to deploy a W&B server locally: https://wandb.me/wandb-server)\n",
            "\u001b[34m\u001b[1mwandb\u001b[0m: You can find your API key in your browser here: https://wandb.ai/authorize\n",
            "wandb: Paste an API key from your profile and hit enter, or press ctrl+c to quit:"
          ]
        },
        {
          "name": "stdout",
          "output_type": "stream",
          "text": [
            " ··········\n"
          ]
        },
        {
          "output_type": "stream",
          "name": "stderr",
          "text": [
            "\u001b[34m\u001b[1mwandb\u001b[0m: Appending key for api.wandb.ai to your netrc file: /root/.netrc\n"
          ]
        },
        {
          "output_type": "display_data",
          "data": {
            "text/plain": [
              "<IPython.core.display.HTML object>"
            ],
            "text/html": [
              "Tracking run with wandb version 0.17.0"
            ]
          },
          "metadata": {}
        },
        {
          "output_type": "display_data",
          "data": {
            "text/plain": [
              "<IPython.core.display.HTML object>"
            ],
            "text/html": [
              "Run data is saved locally in <code>/content/wandb/run-20240508_184133-1wv2v1r1</code>"
            ]
          },
          "metadata": {}
        },
        {
          "output_type": "display_data",
          "data": {
            "text/plain": [
              "<IPython.core.display.HTML object>"
            ],
            "text/html": [
              "Syncing run <strong><a href='https://wandb.ai/adiasija10/wide-resnet-cifar10/runs/1wv2v1r1' target=\"_blank\">wide-resnet</a></strong> to <a href='https://wandb.ai/adiasija10/wide-resnet-cifar10' target=\"_blank\">Weights & Biases</a> (<a href='https://wandb.me/run' target=\"_blank\">docs</a>)<br/>"
            ]
          },
          "metadata": {}
        },
        {
          "output_type": "display_data",
          "data": {
            "text/plain": [
              "<IPython.core.display.HTML object>"
            ],
            "text/html": [
              " View project at <a href='https://wandb.ai/adiasija10/wide-resnet-cifar10' target=\"_blank\">https://wandb.ai/adiasija10/wide-resnet-cifar10</a>"
            ]
          },
          "metadata": {}
        },
        {
          "output_type": "display_data",
          "data": {
            "text/plain": [
              "<IPython.core.display.HTML object>"
            ],
            "text/html": [
              " View run at <a href='https://wandb.ai/adiasija10/wide-resnet-cifar10/runs/1wv2v1r1' target=\"_blank\">https://wandb.ai/adiasija10/wide-resnet-cifar10/runs/1wv2v1r1</a>"
            ]
          },
          "metadata": {}
        },
        {
          "output_type": "execute_result",
          "data": {
            "text/html": [
              "<button onClick=\"this.nextSibling.style.display='block';this.style.display='none';\">Display W&B run</button><iframe src='https://wandb.ai/adiasija10/wide-resnet-cifar10/runs/1wv2v1r1?jupyter=true' style='border:none;width:100%;height:420px;display:none;'></iframe>"
            ],
            "text/plain": [
              "<wandb.sdk.wandb_run.Run at 0x78a08c0e8430>"
            ]
          },
          "metadata": {},
          "execution_count": 15
        }
      ]
    },
    {
      "cell_type": "code",
      "source": [
        "class BasicBlock(nn.Module):\n",
        "    def __init__(self, in_channels, out_channels, stride=1):\n",
        "        super(BasicBlock, self).__init__()\n",
        "        self.conv1 = nn.Conv2d(in_channels, out_channels, kernel_size=3, stride=stride, padding=1, bias=False)\n",
        "        self.bn1 = nn.BatchNorm2d(out_channels)\n",
        "        self.conv2 = nn.Conv2d(out_channels, out_channels, kernel_size=3, stride=1, padding=1, bias=False)\n",
        "        self.bn2 = nn.BatchNorm2d(out_channels)\n",
        "        self.shortcut = nn.Sequential()\n",
        "        if stride != 1 or in_channels != out_channels:\n",
        "            self.shortcut = nn.Sequential(\n",
        "                nn.Conv2d(in_channels, out_channels, kernel_size=1, stride=stride, bias=False),\n",
        "                nn.BatchNorm2d(out_channels)\n",
        "            )\n",
        "\n",
        "    def forward(self, x):\n",
        "        out = F.relu(self.bn1(self.conv1(x)))\n",
        "        out = self.bn2(self.conv2(out))\n",
        "        out += self.shortcut(x)\n",
        "        out = F.relu(out)\n",
        "        return out\n",
        "\n",
        "class WideResNet(nn.Module):\n",
        "    def __init__(self, depth, width, num_classes=10):\n",
        "        super(WideResNet, self).__init__()\n",
        "        assert ((depth - 4) % 6 == 0), 'Depth should be 6n + 4'\n",
        "        n = (depth - 4) // 6\n",
        "        k = width\n",
        "\n",
        "        self.in_channels = 16\n",
        "        self.conv1 = nn.Conv2d(3, 16, kernel_size=3, stride=1, padding=1, bias=False)\n",
        "        self.layer1 = self._make_layer(16 * k, n, stride=1)\n",
        "        self.layer2 = self._make_layer(32 * k, n, stride=2)\n",
        "        self.layer3 = self._make_layer(64 * k, n, stride=2)\n",
        "        self.bn = nn.BatchNorm2d(64 * k)\n",
        "        self.linear = nn.Linear(64 * k, num_classes)\n",
        "\n",
        "    def _make_layer(self, out_channels, blocks, stride):\n",
        "        strides = [stride] + [1] * (blocks - 1)\n",
        "        layers = []\n",
        "        for stride in strides:\n",
        "            layers.append(BasicBlock(self.in_channels, out_channels, stride))\n",
        "            self.in_channels = out_channels\n",
        "        return nn.Sequential(*layers)\n",
        "\n",
        "    def forward(self, x):\n",
        "        out = F.relu(self.conv1(x))\n",
        "        out = self.layer1(out)\n",
        "        out = self.layer2(out)\n",
        "        out = self.layer3(out)\n",
        "        out = F.relu(self.bn(out))\n",
        "        out = F.avg_pool2d(out, 8)\n",
        "        out = out.view(out.size(0), -1)\n",
        "        out = self.linear(out)\n",
        "        return out"
      ],
      "metadata": {
        "id": "YR9lGetpd9wK"
      },
      "execution_count": null,
      "outputs": []
    },
    {
      "cell_type": "code",
      "source": [
        "# Hyperparameters\n",
        "depth = 28\n",
        "width = 10\n",
        "num_classes = 10\n",
        "learning_rate = 0.005\n",
        "epochs = 100\n",
        "batch_size = 1024\n",
        "momentum = 0.9\n",
        "weight_decay = 1e-4"
      ],
      "metadata": {
        "id": "D565hCuneBzO"
      },
      "execution_count": null,
      "outputs": []
    },
    {
      "cell_type": "code",
      "source": [
        "# Model, Loss, Optimizer\n",
        "model = WideResNet(depth, width, num_classes)\n",
        "device = torch.device('cuda' if torch.cuda.is_available() else 'cpu')\n",
        "model.to(device)\n",
        "criterion = nn.CrossEntropyLoss()\n",
        "optimizer = optim.SGD(model.parameters(), lr=learning_rate, momentum=momentum, weight_decay=weight_decay)\n",
        "scheduler = optim.lr_scheduler.CosineAnnealingLR(optimizer, T_max=epochs)\n"
      ],
      "metadata": {
        "id": "UOUyrlMreEPN"
      },
      "execution_count": null,
      "outputs": []
    },
    {
      "cell_type": "code",
      "source": [
        "# Log hyperparameters to wandb\n",
        "wandb.config.update({\n",
        "    \"depth\": depth,\n",
        "    \"width\": width,\n",
        "    \"learning_rate\": learning_rate,\n",
        "    \"epochs\": epochs,\n",
        "    \"batch_size\": batch_size,\n",
        "    \"momentum\": momentum,\n",
        "    \"weight_decay\": weight_decay\n",
        "})"
      ],
      "metadata": {
        "id": "BH_GPEDCg_MR"
      },
      "execution_count": null,
      "outputs": []
    },
    {
      "cell_type": "code",
      "source": [
        "# Data Transforms\n",
        "transform_train = transforms.Compose([\n",
        "    transforms.RandomCrop(32, padding=4),\n",
        "    transforms.RandomHorizontalFlip(),\n",
        "    transforms.ToTensor(),\n",
        "    transforms.Normalize((0.4914, 0.4822, 0.4465), (0.2470, 0.2435, 0.2616))\n",
        "])\n",
        "transform_test = transforms.Compose([\n",
        "    transforms.ToTensor(),\n",
        "    transforms.Normalize((0.4914, 0.4822, 0.4465), (0.2470, 0.2435, 0.2616))\n",
        "])\n",
        "\n",
        "# Load CIFAR-10 Dataset\n",
        "train_dataset = torchvision.datasets.CIFAR10(root='./data', train=True, download=True, transform=transform_train)\n",
        "test_dataset = torchvision.datasets.CIFAR10(root='./data', train=False, download=True, transform=transform_test)\n",
        "\n",
        "train_loader = DataLoader(train_dataset, batch_size=batch_size, shuffle=True, num_workers=2)\n",
        "test_loader = DataLoader(test_dataset, batch_size=batch_size, shuffle=False, num_workers=2)\n"
      ],
      "metadata": {
        "colab": {
          "base_uri": "https://localhost:8080/"
        },
        "id": "z4utdRomeF8c",
        "outputId": "4342e103-aa34-49f9-f1e4-d03aa71ce476"
      },
      "execution_count": null,
      "outputs": [
        {
          "output_type": "stream",
          "name": "stdout",
          "text": [
            "Files already downloaded and verified\n",
            "Files already downloaded and verified\n"
          ]
        }
      ]
    },
    {
      "cell_type": "code",
      "source": [
        "# Training and Evaluation Functions\n",
        "def train(model, loader, criterion, optimizer, device):\n",
        "    model.train()\n",
        "    running_loss = 0.0\n",
        "    correct = 0\n",
        "    total = 0\n",
        "    for images, labels in loader:\n",
        "        images, labels = images.to(device), labels.to(device)\n",
        "        optimizer.zero_grad()\n",
        "        outputs = model(images)\n",
        "        loss = criterion(outputs, labels)\n",
        "        loss.backward()\n",
        "        optimizer.step()\n",
        "        running_loss += loss.item() * images.size(0)\n",
        "        _, predicted = outputs.max(1)\n",
        "        total += labels.size(0)\n",
        "        correct += predicted.eq(labels).sum().item()\n",
        "    return running_loss / total, correct / total\n",
        "\n",
        "def test(model, loader, criterion, device):\n",
        "    model.eval()\n",
        "    running_loss = 0.0\n",
        "    correct = 0\n",
        "    total = 0\n",
        "    with torch.no_grad():\n",
        "        for images, labels in loader:\n",
        "            images, labels = images.to(device), labels.to(device)\n",
        "            outputs = model(images)\n",
        "            loss = criterion(outputs, labels)\n",
        "            running_loss += loss.item() * images.size(0)\n",
        "            _, predicted = outputs.max(1)\n",
        "            total += labels.size(0)\n",
        "            correct += predicted.eq(labels).sum().item()\n",
        "    return running_loss / total, correct / total"
      ],
      "metadata": {
        "id": "I-UZ1N5KeQZK"
      },
      "execution_count": null,
      "outputs": []
    },
    {
      "cell_type": "code",
      "source": [
        "# Training Loop\n",
        "best_acc = 0.0\n",
        "for epoch in range(epochs):\n",
        "    train_loss, train_acc = train(model, train_loader, criterion, optimizer, device)\n",
        "    test_loss, test_acc = test(model, test_loader, criterion, device)\n",
        "    scheduler.step()\n",
        "        # Log metrics to wandb\n",
        "    wandb.log({\n",
        "        \"epoch\": epoch + 1,\n",
        "        \"train_loss\": train_loss,\n",
        "        \"train_acc\": train_acc,\n",
        "        \"test_loss\": test_loss,\n",
        "        \"test_acc\": test_acc\n",
        "    })\n",
        "\n",
        "    print(f'Epoch [{epoch + 1}/{epochs}]: '\n",
        "          f'Train Loss: {train_loss:.4f}, Train Acc: {train_acc:.4f}, '\n",
        "          f'Test Loss: {test_loss:.4f}, Test Acc: {test_acc:.4f}')\n",
        "\n",
        "    if test_acc > best_acc:\n",
        "        best_acc = test_acc\n",
        "        torch.save(model.state_dict(), 'best_wrn_model.pth')\n",
        "\n",
        "print(f'Best Test Accuracy: {best_acc:.4f}')\n"
      ],
      "metadata": {
        "colab": {
          "base_uri": "https://localhost:8080/"
        },
        "id": "jbkgTu5-dLMV",
        "outputId": "015772cd-bb90-4f25-914e-6af64b6ad06e"
      },
      "execution_count": null,
      "outputs": [
        {
          "output_type": "stream",
          "name": "stderr",
          "text": [
            "/usr/lib/python3.10/multiprocessing/popen_fork.py:66: RuntimeWarning: os.fork() was called. os.fork() is incompatible with multithreaded code, and JAX is multithreaded, so this will likely lead to a deadlock.\n",
            "  self.pid = os.fork()\n",
            "/usr/lib/python3.10/multiprocessing/popen_fork.py:66: RuntimeWarning: os.fork() was called. os.fork() is incompatible with multithreaded code, and JAX is multithreaded, so this will likely lead to a deadlock.\n",
            "  self.pid = os.fork()\n"
          ]
        },
        {
          "output_type": "stream",
          "name": "stdout",
          "text": [
            "Epoch [1/100]: Train Loss: 1.8894, Train Acc: 0.2980, Test Loss: 1.6826, Test Acc: 0.3779\n",
            "Epoch [2/100]: Train Loss: 1.4146, Train Acc: 0.4792, Test Loss: 1.4021, Test Acc: 0.5008\n",
            "Epoch [3/100]: Train Loss: 1.1558, Train Acc: 0.5828, Test Loss: 1.3417, Test Acc: 0.5253\n",
            "Epoch [4/100]: Train Loss: 0.9835, Train Acc: 0.6487, Test Loss: 0.9827, Test Acc: 0.6474\n",
            "Epoch [5/100]: Train Loss: 0.8405, Train Acc: 0.7027, Test Loss: 0.9534, Test Acc: 0.6703\n",
            "Epoch [6/100]: Train Loss: 0.7351, Train Acc: 0.7439, Test Loss: 0.8464, Test Acc: 0.7125\n",
            "Epoch [7/100]: Train Loss: 0.6522, Train Acc: 0.7723, Test Loss: 0.7979, Test Acc: 0.7227\n",
            "Epoch [8/100]: Train Loss: 0.5831, Train Acc: 0.7985, Test Loss: 0.8877, Test Acc: 0.7150\n",
            "Epoch [9/100]: Train Loss: 0.5344, Train Acc: 0.8147, Test Loss: 0.8860, Test Acc: 0.7207\n",
            "Epoch [10/100]: Train Loss: 0.4733, Train Acc: 0.8371, Test Loss: 0.7112, Test Acc: 0.7689\n",
            "Epoch [11/100]: Train Loss: 0.4336, Train Acc: 0.8504, Test Loss: 0.7302, Test Acc: 0.7719\n",
            "Epoch [12/100]: Train Loss: 0.4031, Train Acc: 0.8618, Test Loss: 0.6674, Test Acc: 0.7914\n",
            "Epoch [13/100]: Train Loss: 0.3745, Train Acc: 0.8703, Test Loss: 0.6755, Test Acc: 0.7924\n",
            "Epoch [14/100]: Train Loss: 0.3451, Train Acc: 0.8816, Test Loss: 0.7771, Test Acc: 0.7652\n",
            "Epoch [15/100]: Train Loss: 0.3171, Train Acc: 0.8910, Test Loss: 0.6112, Test Acc: 0.8034\n",
            "Epoch [16/100]: Train Loss: 0.2977, Train Acc: 0.8978, Test Loss: 1.0813, Test Acc: 0.7092\n",
            "Epoch [17/100]: Train Loss: 0.2705, Train Acc: 0.9072, Test Loss: 0.6073, Test Acc: 0.8161\n",
            "Epoch [18/100]: Train Loss: 0.2566, Train Acc: 0.9114, Test Loss: 0.8189, Test Acc: 0.7803\n",
            "Epoch [19/100]: Train Loss: 0.2354, Train Acc: 0.9197, Test Loss: 0.5140, Test Acc: 0.8450\n",
            "Epoch [20/100]: Train Loss: 0.2197, Train Acc: 0.9250, Test Loss: 0.6322, Test Acc: 0.8132\n",
            "Epoch [21/100]: Train Loss: 0.2009, Train Acc: 0.9316, Test Loss: 0.5561, Test Acc: 0.8306\n",
            "Epoch [22/100]: Train Loss: 0.1870, Train Acc: 0.9374, Test Loss: 0.5263, Test Acc: 0.8412\n",
            "Epoch [23/100]: Train Loss: 0.1730, Train Acc: 0.9422, Test Loss: 0.5492, Test Acc: 0.8429\n",
            "Epoch [24/100]: Train Loss: 0.1622, Train Acc: 0.9451, Test Loss: 0.9428, Test Acc: 0.7835\n",
            "Epoch [25/100]: Train Loss: 0.1445, Train Acc: 0.9512, Test Loss: 0.5437, Test Acc: 0.8508\n",
            "Epoch [26/100]: Train Loss: 0.1386, Train Acc: 0.9540, Test Loss: 0.4926, Test Acc: 0.8618\n",
            "Epoch [27/100]: Train Loss: 0.1253, Train Acc: 0.9583, Test Loss: 0.5981, Test Acc: 0.8414\n",
            "Epoch [28/100]: Train Loss: 0.1179, Train Acc: 0.9604, Test Loss: 0.6156, Test Acc: 0.8393\n",
            "Epoch [29/100]: Train Loss: 0.1147, Train Acc: 0.9617, Test Loss: 0.6642, Test Acc: 0.8388\n",
            "Epoch [30/100]: Train Loss: 0.1005, Train Acc: 0.9663, Test Loss: 0.5378, Test Acc: 0.8581\n",
            "Epoch [31/100]: Train Loss: 0.0942, Train Acc: 0.9694, Test Loss: 0.5505, Test Acc: 0.8516\n",
            "Epoch [32/100]: Train Loss: 0.0801, Train Acc: 0.9743, Test Loss: 0.5370, Test Acc: 0.8636\n",
            "Epoch [33/100]: Train Loss: 0.0686, Train Acc: 0.9787, Test Loss: 0.5860, Test Acc: 0.8507\n",
            "Epoch [34/100]: Train Loss: 0.0683, Train Acc: 0.9776, Test Loss: 0.6429, Test Acc: 0.8471\n",
            "Epoch [35/100]: Train Loss: 0.0586, Train Acc: 0.9820, Test Loss: 0.6789, Test Acc: 0.8444\n",
            "Epoch [36/100]: Train Loss: 0.0589, Train Acc: 0.9810, Test Loss: 0.4883, Test Acc: 0.8779\n",
            "Epoch [37/100]: Train Loss: 0.0498, Train Acc: 0.9844, Test Loss: 0.5878, Test Acc: 0.8616\n",
            "Epoch [38/100]: Train Loss: 0.0450, Train Acc: 0.9860, Test Loss: 0.6190, Test Acc: 0.8612\n",
            "Epoch [39/100]: Train Loss: 0.0389, Train Acc: 0.9886, Test Loss: 0.5864, Test Acc: 0.8632\n",
            "Epoch [40/100]: Train Loss: 0.0400, Train Acc: 0.9876, Test Loss: 0.6085, Test Acc: 0.8642\n",
            "Epoch [41/100]: Train Loss: 0.0361, Train Acc: 0.9892, Test Loss: 0.4844, Test Acc: 0.8873\n",
            "Epoch [42/100]: Train Loss: 0.0327, Train Acc: 0.9905, Test Loss: 0.5282, Test Acc: 0.8807\n",
            "Epoch [43/100]: Train Loss: 0.0327, Train Acc: 0.9898, Test Loss: 0.7676, Test Acc: 0.8482\n",
            "Epoch [44/100]: Train Loss: 0.0251, Train Acc: 0.9931, Test Loss: 0.6207, Test Acc: 0.8679\n",
            "Epoch [45/100]: Train Loss: 0.0230, Train Acc: 0.9936, Test Loss: 0.5769, Test Acc: 0.8757\n",
            "Epoch [46/100]: Train Loss: 0.0203, Train Acc: 0.9945, Test Loss: 0.5580, Test Acc: 0.8772\n",
            "Epoch [47/100]: Train Loss: 0.0180, Train Acc: 0.9955, Test Loss: 0.5461, Test Acc: 0.8777\n",
            "Epoch [48/100]: Train Loss: 0.0157, Train Acc: 0.9963, Test Loss: 0.5133, Test Acc: 0.8812\n",
            "Epoch [49/100]: Train Loss: 0.0145, Train Acc: 0.9964, Test Loss: 0.4989, Test Acc: 0.8863\n",
            "Epoch [50/100]: Train Loss: 0.0122, Train Acc: 0.9973, Test Loss: 0.5127, Test Acc: 0.8912\n",
            "Epoch [51/100]: Train Loss: 0.0120, Train Acc: 0.9972, Test Loss: 0.5653, Test Acc: 0.8818\n",
            "Epoch [52/100]: Train Loss: 0.0099, Train Acc: 0.9982, Test Loss: 0.5387, Test Acc: 0.8895\n",
            "Epoch [53/100]: Train Loss: 0.0093, Train Acc: 0.9983, Test Loss: 0.4903, Test Acc: 0.8940\n",
            "Epoch [54/100]: Train Loss: 0.0075, Train Acc: 0.9988, Test Loss: 0.4904, Test Acc: 0.8920\n",
            "Epoch [55/100]: Train Loss: 0.0074, Train Acc: 0.9989, Test Loss: 0.5068, Test Acc: 0.8870\n",
            "Epoch [56/100]: Train Loss: 0.0066, Train Acc: 0.9990, Test Loss: 0.4749, Test Acc: 0.8953\n",
            "Epoch [57/100]: Train Loss: 0.0054, Train Acc: 0.9994, Test Loss: 0.4736, Test Acc: 0.8966\n",
            "Epoch [58/100]: Train Loss: 0.0051, Train Acc: 0.9993, Test Loss: 0.4694, Test Acc: 0.8981\n",
            "Epoch [59/100]: Train Loss: 0.0046, Train Acc: 0.9994, Test Loss: 0.4786, Test Acc: 0.8972\n",
            "Epoch [60/100]: Train Loss: 0.0043, Train Acc: 0.9995, Test Loss: 0.4652, Test Acc: 0.8947\n",
            "Epoch [61/100]: Train Loss: 0.0039, Train Acc: 0.9997, Test Loss: 0.4607, Test Acc: 0.8990\n",
            "Epoch [62/100]: Train Loss: 0.0037, Train Acc: 0.9997, Test Loss: 0.4742, Test Acc: 0.8980\n",
            "Epoch [63/100]: Train Loss: 0.0036, Train Acc: 0.9996, Test Loss: 0.4633, Test Acc: 0.8965\n",
            "Epoch [64/100]: Train Loss: 0.0037, Train Acc: 0.9996, Test Loss: 0.4655, Test Acc: 0.9001\n",
            "Epoch [65/100]: Train Loss: 0.0037, Train Acc: 0.9996, Test Loss: 0.4724, Test Acc: 0.8964\n",
            "Epoch [66/100]: Train Loss: 0.0032, Train Acc: 0.9998, Test Loss: 0.4604, Test Acc: 0.9003\n",
            "Epoch [67/100]: Train Loss: 0.0033, Train Acc: 0.9997, Test Loss: 0.4597, Test Acc: 0.8994\n",
            "Epoch [68/100]: Train Loss: 0.0030, Train Acc: 0.9997, Test Loss: 0.4724, Test Acc: 0.8999\n",
            "Epoch [69/100]: Train Loss: 0.0029, Train Acc: 0.9997, Test Loss: 0.4625, Test Acc: 0.8999\n",
            "Epoch [70/100]: Train Loss: 0.0029, Train Acc: 0.9998, Test Loss: 0.4686, Test Acc: 0.8994\n",
            "Epoch [71/100]: Train Loss: 0.0028, Train Acc: 0.9998, Test Loss: 0.4636, Test Acc: 0.8990\n",
            "Epoch [72/100]: Train Loss: 0.0026, Train Acc: 0.9998, Test Loss: 0.4649, Test Acc: 0.8987\n",
            "Epoch [73/100]: Train Loss: 0.0029, Train Acc: 0.9996, Test Loss: 0.4599, Test Acc: 0.8991\n",
            "Epoch [74/100]: Train Loss: 0.0024, Train Acc: 0.9998, Test Loss: 0.4593, Test Acc: 0.9008\n",
            "Epoch [75/100]: Train Loss: 0.0023, Train Acc: 0.9999, Test Loss: 0.4588, Test Acc: 0.9016\n",
            "Epoch [76/100]: Train Loss: 0.0024, Train Acc: 0.9999, Test Loss: 0.4590, Test Acc: 0.8993\n",
            "Epoch [77/100]: Train Loss: 0.0024, Train Acc: 1.0000, Test Loss: 0.4603, Test Acc: 0.9000\n",
            "Epoch [78/100]: Train Loss: 0.0024, Train Acc: 0.9999, Test Loss: 0.4590, Test Acc: 0.9010\n",
            "Epoch [79/100]: Train Loss: 0.0022, Train Acc: 0.9998, Test Loss: 0.4632, Test Acc: 0.9005\n",
            "Epoch [80/100]: Train Loss: 0.0022, Train Acc: 0.9998, Test Loss: 0.4619, Test Acc: 0.9011\n",
            "Epoch [81/100]: Train Loss: 0.0021, Train Acc: 0.9999, Test Loss: 0.4610, Test Acc: 0.9004\n",
            "Epoch [82/100]: Train Loss: 0.0020, Train Acc: 0.9999, Test Loss: 0.4616, Test Acc: 0.9004\n",
            "Epoch [83/100]: Train Loss: 0.0021, Train Acc: 0.9999, Test Loss: 0.4580, Test Acc: 0.9021\n",
            "Epoch [84/100]: Train Loss: 0.0021, Train Acc: 0.9999, Test Loss: 0.4588, Test Acc: 0.9017\n",
            "Epoch [85/100]: Train Loss: 0.0022, Train Acc: 0.9999, Test Loss: 0.4577, Test Acc: 0.9021\n",
            "Epoch [86/100]: Train Loss: 0.0021, Train Acc: 0.9999, Test Loss: 0.4591, Test Acc: 0.9016\n",
            "Epoch [87/100]: Train Loss: 0.0021, Train Acc: 0.9999, Test Loss: 0.4595, Test Acc: 0.9016\n",
            "Epoch [88/100]: Train Loss: 0.0020, Train Acc: 0.9999, Test Loss: 0.4581, Test Acc: 0.9015\n",
            "Epoch [89/100]: Train Loss: 0.0019, Train Acc: 1.0000, Test Loss: 0.4587, Test Acc: 0.9017\n",
            "Epoch [90/100]: Train Loss: 0.0020, Train Acc: 0.9999, Test Loss: 0.4573, Test Acc: 0.9019\n",
            "Epoch [91/100]: Train Loss: 0.0021, Train Acc: 0.9999, Test Loss: 0.4583, Test Acc: 0.9016\n",
            "Epoch [92/100]: Train Loss: 0.0019, Train Acc: 0.9999, Test Loss: 0.4584, Test Acc: 0.9010\n",
            "Epoch [93/100]: Train Loss: 0.0021, Train Acc: 0.9998, Test Loss: 0.4588, Test Acc: 0.9012\n",
            "Epoch [94/100]: Train Loss: 0.0018, Train Acc: 1.0000, Test Loss: 0.4586, Test Acc: 0.9010\n",
            "Epoch [95/100]: Train Loss: 0.0019, Train Acc: 0.9999, Test Loss: 0.4574, Test Acc: 0.9017\n",
            "Epoch [96/100]: Train Loss: 0.0019, Train Acc: 1.0000, Test Loss: 0.4576, Test Acc: 0.9019\n",
            "Epoch [97/100]: Train Loss: 0.0018, Train Acc: 1.0000, Test Loss: 0.4587, Test Acc: 0.9018\n",
            "Epoch [98/100]: Train Loss: 0.0020, Train Acc: 1.0000, Test Loss: 0.4582, Test Acc: 0.9009\n",
            "Epoch [99/100]: Train Loss: 0.0019, Train Acc: 0.9999, Test Loss: 0.4596, Test Acc: 0.9009\n",
            "Epoch [100/100]: Train Loss: 0.0019, Train Acc: 0.9999, Test Loss: 0.4597, Test Acc: 0.9007\n",
            "Best Test Accuracy: 0.9021\n"
          ]
        }
      ]
    },
    {
      "cell_type": "code",
      "source": [
        "wandb.finish()\n"
      ],
      "metadata": {
        "colab": {
          "base_uri": "https://localhost:8080/",
          "height": 291,
          "referenced_widgets": [
            "1a64d7d1f827470291196d1730a482d8",
            "46800fbb0a9448c486b0b62dabd111dd",
            "3a04eae635fb4800bf8fece733c03a32",
            "814922ef851b4c0da3b4aa0260f3b56f",
            "f1cad53a45bb451fba1a20bc13d8faca",
            "bbd79abfaf044176896cc89c8f2ad209",
            "e90f7d19d7e14d2a966e0b02b8b6da93",
            "e83cab5977594a319513f4c49fe081af"
          ]
        },
        "id": "jNB-cT8fe5NF",
        "outputId": "874bc22e-f8e4-40db-c817-dc86f3a79a65"
      },
      "execution_count": null,
      "outputs": [
        {
          "output_type": "display_data",
          "data": {
            "text/plain": [
              "VBox(children=(Label(value='0.002 MB of 0.002 MB uploaded\\r'), FloatProgress(value=1.0, max=1.0)))"
            ],
            "application/vnd.jupyter.widget-view+json": {
              "version_major": 2,
              "version_minor": 0,
              "model_id": "1a64d7d1f827470291196d1730a482d8"
            }
          },
          "metadata": {}
        },
        {
          "output_type": "display_data",
          "data": {
            "text/plain": [
              "<IPython.core.display.HTML object>"
            ],
            "text/html": [
              "<style>\n",
              "    table.wandb td:nth-child(1) { padding: 0 10px; text-align: left ; width: auto;} td:nth-child(2) {text-align: left ; width: 100%}\n",
              "    .wandb-row { display: flex; flex-direction: row; flex-wrap: wrap; justify-content: flex-start; width: 100% }\n",
              "    .wandb-col { display: flex; flex-direction: column; flex-basis: 100%; flex: 1; padding: 10px; }\n",
              "    </style>\n",
              "<div class=\"wandb-row\"><div class=\"wandb-col\"><h3>Run history:</h3><br/><table class=\"wandb\"><tr><td>epoch</td><td>▁▁▁▁▂▂▂▂▂▃▃▃▃▃▃▄▄▄▄▄▅▅▅▅▅▅▆▆▆▆▆▇▇▇▇▇▇███</td></tr><tr><td>test_acc</td><td>▁▃▅▆▆▇▅▆▇▇▇▇▇▇█▇████████████████████████</td></tr><tr><td>test_loss</td><td>█▆▃▃▃▂▅▃▂▂▁▂▂▂▁▂▁▂▂▁▂▁▁▁▁▁▁▁▁▁▁▁▁▁▁▁▁▁▁▁</td></tr><tr><td>train_acc</td><td>▁▄▅▆▇▇▇▇▇▇██████████████████████████████</td></tr><tr><td>train_loss</td><td>█▅▄▃▃▂▂▂▂▂▂▁▁▁▁▁▁▁▁▁▁▁▁▁▁▁▁▁▁▁▁▁▁▁▁▁▁▁▁▁</td></tr></table><br/></div><div class=\"wandb-col\"><h3>Run summary:</h3><br/><table class=\"wandb\"><tr><td>epoch</td><td>100</td></tr><tr><td>test_acc</td><td>0.9007</td></tr><tr><td>test_loss</td><td>0.45967</td></tr><tr><td>train_acc</td><td>0.9999</td></tr><tr><td>train_loss</td><td>0.00192</td></tr></table><br/></div></div>"
            ]
          },
          "metadata": {}
        },
        {
          "output_type": "display_data",
          "data": {
            "text/plain": [
              "<IPython.core.display.HTML object>"
            ],
            "text/html": [
              " View run <strong style=\"color:#cdcd00\">wide-resnet</strong> at: <a href='https://wandb.ai/adiasija10/wide-resnet-cifar10/runs/1wv2v1r1' target=\"_blank\">https://wandb.ai/adiasija10/wide-resnet-cifar10/runs/1wv2v1r1</a><br/> View project at: <a href='https://wandb.ai/adiasija10/wide-resnet-cifar10' target=\"_blank\">https://wandb.ai/adiasija10/wide-resnet-cifar10</a><br/>Synced 5 W&B file(s), 0 media file(s), 0 artifact file(s) and 0 other file(s)"
            ]
          },
          "metadata": {}
        },
        {
          "output_type": "display_data",
          "data": {
            "text/plain": [
              "<IPython.core.display.HTML object>"
            ],
            "text/html": [
              "Find logs at: <code>./wandb/run-20240508_184133-1wv2v1r1/logs</code>"
            ]
          },
          "metadata": {}
        }
      ]
    },
    {
      "cell_type": "code",
      "source": [
        "import matplotlib.pyplot as plt\n",
        "import numpy as np\n",
        "\n",
        "# Function to visualize and print test sample predictions\n",
        "def visualize_predictions(model, loader, device, class_names):\n",
        "    model.eval()\n",
        "    images, labels = next(iter(loader))\n",
        "    images, labels = images.to(device), labels.to(device)\n",
        "    outputs = model(images)\n",
        "    _, predicted = outputs.max(1)\n",
        "\n",
        "    # Convert images back to CPU for visualization\n",
        "    images = images.cpu()\n",
        "    labels = labels.cpu()\n",
        "    predicted = predicted.cpu()\n",
        "\n",
        "    fig, axs = plt.subplots(2, 5, figsize=(12, 5), dpi=100)\n",
        "    axs = axs.flatten()\n",
        "\n",
        "    for i, ax in enumerate(axs):\n",
        "        img = images[i]\n",
        "        img = img / 2 + 0.5  # Unnormalize\n",
        "        npimg = img.numpy()\n",
        "        ax.imshow(np.transpose(npimg, (1, 2, 0)))\n",
        "        ax.set_title(f'True: {class_names[labels[i]]}\\nPred: {class_names[predicted[i]]}', fontsize=10)\n",
        "        ax.axis('off')\n",
        "\n",
        "    plt.tight_layout()\n",
        "    plt.show()\n",
        "\n",
        "# Example usage with CIFAR-10 class names\n",
        "class_names = ['plane', 'car', 'bird', 'cat', 'deer', 'dog', 'frog', 'horse', 'ship', 'truck']\n",
        "visualize_predictions(model, test_loader, device, class_names)\n"
      ],
      "metadata": {
        "colab": {
          "base_uri": "https://localhost:8080/",
          "height": 688
        },
        "id": "UvV7UUr9hNm4",
        "outputId": "788d8e54-3376-44c5-b819-3f5d0254a9a6"
      },
      "execution_count": null,
      "outputs": [
        {
          "output_type": "stream",
          "name": "stderr",
          "text": [
            "WARNING:matplotlib.image:Clipping input data to the valid range for imshow with RGB data ([0..1] for floats or [0..255] for integers).\n",
            "WARNING:matplotlib.image:Clipping input data to the valid range for imshow with RGB data ([0..1] for floats or [0..255] for integers).\n",
            "WARNING:matplotlib.image:Clipping input data to the valid range for imshow with RGB data ([0..1] for floats or [0..255] for integers).\n",
            "WARNING:matplotlib.image:Clipping input data to the valid range for imshow with RGB data ([0..1] for floats or [0..255] for integers).\n",
            "WARNING:matplotlib.image:Clipping input data to the valid range for imshow with RGB data ([0..1] for floats or [0..255] for integers).\n",
            "WARNING:matplotlib.image:Clipping input data to the valid range for imshow with RGB data ([0..1] for floats or [0..255] for integers).\n",
            "WARNING:matplotlib.image:Clipping input data to the valid range for imshow with RGB data ([0..1] for floats or [0..255] for integers).\n",
            "WARNING:matplotlib.image:Clipping input data to the valid range for imshow with RGB data ([0..1] for floats or [0..255] for integers).\n",
            "WARNING:matplotlib.image:Clipping input data to the valid range for imshow with RGB data ([0..1] for floats or [0..255] for integers).\n",
            "WARNING:matplotlib.image:Clipping input data to the valid range for imshow with RGB data ([0..1] for floats or [0..255] for integers).\n"
          ]
        },
        {
          "output_type": "display_data",
          "data": {
            "text/plain": [
              "<Figure size 1200x500 with 10 Axes>"
            ],
            "image/png": "[encoded data removed]"
          },
          "metadata": {}
        }
      ]
    },
    {
      "cell_type": "code",
      "source": [
        "from google.colab import drive\n",
        "import shutil\n",
        "\n",
        "# Mount Google Drive\n",
        "drive.mount('/content/drive')\n",
        "\n",
        "# Source path of the model\n",
        "model_path = '/content/best_wrn_model.pth'\n",
        "\n",
        "# Destination path in Google Drive (you can change the folder name)\n",
        "destination_path = '/content/drive/My Drive/best_wrn_model.pth'\n",
        "\n",
        "# Copy the model to Google Drive\n",
        "shutil.copy(model_path, destination_path)\n",
        "\n",
        "print(f'Model saved to {destination_path}')\n"
      ],
      "metadata": {
        "colab": {
          "base_uri": "https://localhost:8080/"
        },
        "id": "DPSU2jXZtEAC",
        "outputId": "c850688b-e143-4266-d438-384ee4a0e407"
      },
      "execution_count": null,
      "outputs": [
        {
          "output_type": "stream",
          "name": "stdout",
          "text": [
            "Mounted at /content/drive\n",
            "Model saved to /content/drive/My Drive/best_wrn_model.pth\n"
          ]
        }
      ]
    },
    {
      "cell_type": "code",
      "source": [],
      "metadata": {
        "id": "vNXVix5huG1n"
      },
      "execution_count": null,
      "outputs": []
    }
  ]
}